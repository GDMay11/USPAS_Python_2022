{
 "cells": [
  {
   "cell_type": "markdown",
   "metadata": {},
   "source": [
    "Several basic examples of building arrays, matrices, and indexing"
   ]
  },
  {
   "cell_type": "code",
   "execution_count": 1,
   "metadata": {},
   "outputs": [],
   "source": [
    "import numpy as np"
   ]
  },
  {
   "cell_type": "markdown",
   "metadata": {},
   "source": [
    "Appending Lists"
   ]
  },
  {
   "cell_type": "code",
   "execution_count": 2,
   "metadata": {},
   "outputs": [
    {
     "name": "stdout",
     "output_type": "stream",
     "text": [
      "1\n",
      "2\n",
      "3\n",
      "4\n",
      "5\n",
      "6\n",
      "7\n",
      "8\n",
      "9\n",
      "10\n",
      "11\n",
      "[1, 2, 3, 5, 7, 11, 13, 17, 19, 23, 29]\n"
     ]
    }
   ],
   "source": [
    "#how to use append to build up a list\n",
    "#start with an empty list\n",
    "x = []\n",
    "#lets fill it with prime numbers\n",
    "for lp in range(1,30):\n",
    "    prime_flag = 1\n",
    "    lp2 = 2\n",
    "    while (lp2 < lp and prime_flag == 1):\n",
    "        if (lp/lp2 == int(lp/lp2)):\n",
    "            prime_flag = 0\n",
    "        lp2 = lp2 + 1\n",
    "    if (prime_flag == 1):\n",
    "        #append ads lp to the end of x\n",
    "        x.append(lp)\n",
    "        print(len(x))\n",
    "\n",
    "print(x)"
   ]
  },
  {
   "cell_type": "markdown",
   "metadata": {},
   "source": [
    "Stacking Arrays"
   ]
  },
  {
   "cell_type": "code",
   "execution_count": 3,
   "metadata": {},
   "outputs": [
    {
     "name": "stdout",
     "output_type": "stream",
     "text": [
      "[ 1  2  3  5  7 11 13 17 19 23 29 31]\n",
      "[ 1  2  3  5  7 11 13 17 19 23 29 31 37 41 43]\n",
      "[ 1  2  3  5  7 11 13 17 19 23 29 31]\n"
     ]
    }
   ],
   "source": [
    "#Now I cast it as a np.array so I can manipulate it.\n",
    "x = np.array(x)\n",
    "#Since x is a numpy array now, .append no longer works\n",
    "#So instead I have to do hstack\n",
    "x = np.hstack((x,31))\n",
    "print(x)\n",
    "#hstack can also be used to append larger sequences\n",
    "print(np.hstack((x,[37,41,43])))\n",
    "#but unlike hstasck, you have to set x equal to if you want it to stick\n",
    "print(x)"
   ]
  },
  {
   "cell_type": "code",
   "execution_count": 4,
   "metadata": {},
   "outputs": [
    {
     "name": "stdout",
     "output_type": "stream",
     "text": [
      "[[ 1  2  3  5  7 11 13 17 19 23 29 31]\n",
      " [ 2  4  6 10 14 22 26 34 38 46 58 62]\n",
      " [ 3  6  9 15 21 33 39 51 57 69 87 93]]\n"
     ]
    }
   ],
   "source": [
    "#hstack sticks arrays together horizontally\n",
    "#vstack is the same used for building 2D arrays\n",
    "y=2*x\n",
    "z=3*x\n",
    "M = np.vstack((x,y))\n",
    "M = np.vstack((M,z))\n",
    "print(M)"
   ]
  },
  {
   "cell_type": "code",
   "execution_count": 5,
   "metadata": {},
   "outputs": [
    {
     "name": "stdout",
     "output_type": "stream",
     "text": [
      "[1 2 3 4 5]\n",
      "[[ 1  2  3]\n",
      " [ 4  5  6]\n",
      " [ 7  8  9]\n",
      " [10 11 12]\n",
      " [13 14 15]]\n"
     ]
    }
   ],
   "source": [
    "#one can also define 1D and 2D arrays explicitly\n",
    "x = np.array([1,2,3,4,5])\n",
    "M = np.array([[1,2,3],[4,5,6],[7,8,9],[10,11,12],[13,14,15]])\n",
    "print(x)\n",
    "print(M)"
   ]
  },
  {
   "cell_type": "markdown",
   "metadata": {},
   "source": [
    "Indexing 2D arrays"
   ]
  },
  {
   "cell_type": "code",
   "execution_count": 6,
   "metadata": {},
   "outputs": [
    {
     "name": "stdout",
     "output_type": "stream",
     "text": [
      "[1 2 3]\n",
      "[ 1  4  7 10 13]\n"
     ]
    }
   ],
   "source": [
    "#Indexing works as before, except with row, column\n",
    "#print first row\n",
    "print(M[0,:])\n",
    "#print first column\n",
    "print(M[:,0])\n",
    "#this is incredibly useful when you forget what order you put your indices\n"
   ]
  },
  {
   "cell_type": "code",
   "execution_count": 7,
   "metadata": {},
   "outputs": [
    {
     "name": "stdout",
     "output_type": "stream",
     "text": [
      "15\n",
      "5\n",
      "3\n",
      "(5, 3)\n"
     ]
    }
   ],
   "source": [
    "\n",
    "#Some useful functions for understanding the size and shape of a matrix\n",
    "#total number of elements\n",
    "print(np.size(M))\n",
    "#Number of elements along first index\n",
    "print(np.size(M,0))\n",
    "#Number of elements along second index\n",
    "print(np.size(M,1))\n",
    "#Number of elements in each index\n",
    "print(M.shape)\n"
   ]
  },
  {
   "cell_type": "markdown",
   "metadata": {},
   "source": [
    "Multi-element Operations"
   ]
  },
  {
   "cell_type": "code",
   "execution_count": 8,
   "metadata": {},
   "outputs": [
    {
     "name": "stdout",
     "output_type": "stream",
     "text": [
      "0.8414709848078965\n",
      "0.9092974268256817\n",
      "0.1411200080598672\n",
      "-0.7568024953079282\n",
      "-0.9589242746631385\n",
      "[ 0.84147098  0.90929743  0.14112001 -0.7568025  -0.95892427]\n"
     ]
    }
   ],
   "source": [
    "#instead of indexing each element individually,\n",
    "#one can apply functions to the whole array\n",
    "\n",
    "#slow way\n",
    "for lp in range(len(x)):\n",
    "  print(np.sin(x[lp]))\n",
    "\n",
    "#fast way\n",
    "print(np.sin(x))"
   ]
  },
  {
   "cell_type": "code",
   "execution_count": 9,
   "metadata": {},
   "outputs": [
    {
     "name": "stdout",
     "output_type": "stream",
     "text": [
      "[1 2 3 4 5]\n",
      "[3 4 5 6 7]\n",
      "[10.84147098 20.90929743 30.14112001 39.2431975  49.04107573]\n",
      "[[ 1  2  3]\n",
      " [ 4  5  6]\n",
      " [ 7  8  9]\n",
      " [10 11 12]\n",
      " [13 14 15]]\n",
      "[[  1   4   9]\n",
      " [ 16  25  36]\n",
      " [ 49  64  81]\n",
      " [100 121 144]\n",
      " [169 196 225]]\n"
     ]
    }
   ],
   "source": [
    "#By default almost numpy functions operate on an element-wise basis,\n",
    "#this allows for shorter code that is computationally faster\n",
    "print(x)\n",
    "print(x+2)\n",
    "print(10*x+np.sin(x))\n",
    "#also for 2D arrays\n",
    "print(M)\n",
    "print(M**2)"
   ]
  },
  {
   "cell_type": "code",
   "execution_count": 10,
   "metadata": {},
   "outputs": [
    {
     "name": "stdout",
     "output_type": "stream",
     "text": [
      "[1 2 3 4 5]\n",
      "15\n",
      "3.0\n",
      "5\n",
      "1\n",
      "1.4142135623730951\n"
     ]
    }
   ],
   "source": [
    "#numpy also has functions that obtains one number from all the elements\n",
    "print(x)\n",
    "print(np.sum(x))\n",
    "print(np.mean(x))\n",
    "print(np.max(x))\n",
    "print(np.min(x))\n",
    "print(np.std(x))"
   ]
  },
  {
   "cell_type": "code",
   "execution_count": 11,
   "metadata": {},
   "outputs": [
    {
     "name": "stdout",
     "output_type": "stream",
     "text": [
      "[[ 1  2  3]\n",
      " [ 4  5  6]\n",
      " [ 7  8  9]\n",
      " [10 11 12]\n",
      " [13 14 15]]\n",
      "8.0\n",
      "[7. 8. 9.]\n",
      "[ 2.  5.  8. 11. 14.]\n"
     ]
    }
   ],
   "source": [
    "#Those same operation can be used on 2D arrays\n",
    "#be default it applies an operation to the entire array\n",
    "print(M)\n",
    "print(np.mean(M))\n",
    "#however, you can also apply it to just one index\n",
    "print(np.mean(M,0))\n",
    "print(np.mean(M,1))"
   ]
  },
  {
   "cell_type": "markdown",
   "metadata": {},
   "source": [
    "Multi-element Inequalities"
   ]
  },
  {
   "cell_type": "code",
   "execution_count": 12,
   "metadata": {},
   "outputs": [
    {
     "name": "stdout",
     "output_type": "stream",
     "text": [
      "[ 0.54030231 -0.41614684 -0.9899925  -0.65364362  0.28366219]\n",
      "[ True False False False  True]\n",
      "2\n",
      "[0.54030231 0.28366219]\n",
      "[        nan -0.41614684 -0.9899925  -0.65364362         nan]\n"
     ]
    }
   ],
   "source": [
    "#you can also apply an inequality statement and output a boolean to those values for which it applies\n",
    "cx = np.cos(x)\n",
    "print(cx)\n",
    "print(cx > 0)\n",
    "#number of element of cos(x) which are positive\n",
    "print(np.sum(cx > 0))\n",
    "#you can also use this boolean numpy array as an index, to pull out those numbers for which it applies\n",
    "print(cx[(cx > 0)])\n",
    "#and finally you can apply a specific operation to just those elements\n",
    "cx[(cx > 0)] = np.nan\n",
    "print(cx)"
   ]
  },
  {
   "cell_type": "markdown",
   "metadata": {},
   "source": [
    "NaN: Not a Number"
   ]
  },
  {
   "cell_type": "code",
   "execution_count": 13,
   "metadata": {},
   "outputs": [
    {
     "name": "stdout",
     "output_type": "stream",
     "text": [
      "nan\n",
      "False\n",
      "False\n",
      "nan\n",
      "-0.6865943180037332\n"
     ]
    }
   ],
   "source": [
    "#by the way nan is \"not a number\" which is used to eliminate elements of an array (rather than zero)\n",
    "#you can pick them out with isnan\n",
    "np.isnan(cx)\n",
    "#most arithmetic operations don't work on nan\n",
    "print(np.nan + 5)\n",
    "print(np.nan > 0)\n",
    "print(np.nan <= 0)\n",
    "print(np.mean(cx))\n",
    "#sometimes there are special functions which skip the nansd\n",
    "print(np.nanmean(cx))\n"
   ]
  },
  {
   "cell_type": "markdown",
   "metadata": {},
   "source": [
    "Matrices"
   ]
  },
  {
   "cell_type": "code",
   "execution_count": 14,
   "metadata": {},
   "outputs": [
    {
     "name": "stdout",
     "output_type": "stream",
     "text": [
      "[[1 2 3]\n",
      " [4 5 6]\n",
      " [7 8 9]]\n",
      "[[ 1  4  9]\n",
      " [16 25 36]\n",
      " [49 64 81]]\n",
      "[[1 2 3]\n",
      " [4 5 6]\n",
      " [7 8 9]]\n",
      "[[ 30  36  42]\n",
      " [ 66  81  96]\n",
      " [102 126 150]]\n",
      "[[ 30  36  42]\n",
      " [ 66  81  96]\n",
      " [102 126 150]]\n"
     ]
    }
   ],
   "source": [
    "#Note that a 2D array is not a matrix.\n",
    "#When I multiply M by itself in a 2D array, I get element-by-element multiplication\n",
    "#but that is not how you do matrix multiplication!\n",
    "M = np.array([[1,2,3],[4,5,6],[7,8,9]])\n",
    "print(M)\n",
    "print(M*M)\n",
    "print(M)\n",
    "#you can use np.dot to force it to do matrix multiplication\n",
    "print(np.dot(M,M))\n",
    "#or you can cast this 2D array as a numpy matrix, which will default to matrix multiplication\n",
    "M = np.matrix(M)\n",
    "print(M*M)"
   ]
  },
  {
   "cell_type": "code",
   "execution_count": 15,
   "metadata": {},
   "outputs": [
    {
     "name": "stdout",
     "output_type": "stream",
     "text": [
      "[ 1  8 21]\n",
      "30\n",
      "30\n",
      "[1 2 3]\n",
      "[1 2 3]\n",
      "[[1 4 7]]\n",
      "[[1]\n",
      " [4]\n",
      " [7]]\n",
      "[[30]]\n",
      "[[ 1  4  7]\n",
      " [ 2  8 14]\n",
      " [ 3 12 21]]\n",
      "[[14]\n",
      " [32]\n",
      " [50]]\n"
     ]
    }
   ],
   "source": [
    "#the same rules apply for treating 1D arrays as a vector\n",
    "v1 = np.array([1,2,3])\n",
    "v2 = np.array([1,4,7])\n",
    "print(v1*v2)\n",
    "#dot product of vectors defaults to the 1x1 'inner product' not the nxn 'outer product'\n",
    "print(np.dot(v1,v2))\n",
    "print(np.dot(v2,v1))\n",
    "#1D arrays have no sense of orientation\n",
    "print(v1)\n",
    "print(v1.T)\n",
    "#however numpy will treat 1D arrays as a vector if we cast them as a matrix\n",
    "#what is a vector but a matrix with a dimension of 1xn\n",
    "v1 = np.matrix(v1)\n",
    "v2 = np.matrix(v2)\n",
    "print(v2)\n",
    "print(v2.T)\n",
    "print(v1*(v2.T))\n",
    "print((v1.T)*v2)\n",
    "print(M*(v1.T))\n"
   ]
  }
 ],
 "metadata": {
  "interpreter": {
   "hash": "91423847b92848fd7e4299cd94176cfe797882b744a01e3f6a6d48730c768a49"
  },
  "kernelspec": {
   "display_name": "Python 3.9.2 64-bit",
   "language": "python",
   "name": "python3"
  },
  "language_info": {
   "codemirror_mode": {
    "name": "ipython",
    "version": 3
   },
   "file_extension": ".py",
   "mimetype": "text/x-python",
   "name": "python",
   "nbconvert_exporter": "python",
   "pygments_lexer": "ipython3",
   "version": "3.9.2"
  },
  "orig_nbformat": 4
 },
 "nbformat": 4,
 "nbformat_minor": 2
}
